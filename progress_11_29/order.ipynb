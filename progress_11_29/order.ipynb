{
 "cells": [
  {
   "cell_type": "code",
   "execution_count": 8,
   "id": "96c9c521",
   "metadata": {},
   "outputs": [],
   "source": [
    "import os\n",
    "import pandas as pd\n",
    "import numpy as np\n",
    "import datetime\n",
    "from dateutil.parser import parse\n",
    "from tqdm import tqdm\n",
    "import matplotlib.pyplot as plt"
   ]
  },
  {
   "cell_type": "code",
   "execution_count": 3,
   "id": "b22a1b17",
   "metadata": {},
   "outputs": [
    {
     "name": "stderr",
     "output_type": "stream",
     "text": [
      "C:\\Users\\Lenovo\\AppData\\Local\\Temp\\ipykernel_26436\\1243554808.py:1: DtypeWarning: Columns (7) have mixed types. Specify dtype option on import or set low_memory=False.\n",
      "  data = pd.read_csv(\"Order-2022-09-26.csv\")\n"
     ]
    },
    {
     "name": "stdout",
     "output_type": "stream",
     "text": [
      "<class 'pandas.core.frame.DataFrame'>\n",
      "RangeIndex: 264341 entries, 0 to 264340\n",
      "Data columns (total 16 columns):\n",
      " #   Column                Non-Null Count   Dtype  \n",
      "---  ------                --------------   -----  \n",
      " 0   order_items           264341 non-null  object \n",
      " 1   shipping_postal_code  263979 non-null  object \n",
      " 2   shipping_date         264256 non-null  object \n",
      " 3   discounts             264341 non-null  object \n",
      " 4   subscription_id       121404 non-null  float64\n",
      " 5   user_id               264328 non-null  float64\n",
      " 6   id                    264341 non-null  int64  \n",
      " 7   number                264341 non-null  object \n",
      " 8   currency              264341 non-null  object \n",
      " 9   total_incl_tax        264341 non-null  float64\n",
      " 10  total_excl_tax        264341 non-null  float64\n",
      " 11  shipping_incl_tax     264341 non-null  float64\n",
      " 12  shipping_method       264341 non-null  object \n",
      " 13  shipping_code         264341 non-null  object \n",
      " 14  status                264341 non-null  object \n",
      " 15  date_placed           264341 non-null  object \n",
      "dtypes: float64(5), int64(1), object(10)\n",
      "memory usage: 32.3+ MB\n"
     ]
    }
   ],
   "source": [
    "data = pd.read_csv(\"Order-2022-09-26.csv\")\n",
    "data.info()"
   ]
  },
  {
   "cell_type": "code",
   "execution_count": 5,
   "id": "46d20594",
   "metadata": {},
   "outputs": [
    {
     "name": "stderr",
     "output_type": "stream",
     "text": [
      "100%|████████████████████████████████████████████████████████████████████████| 264340/264340 [00:26<00:00, 9813.63it/s]\n"
     ]
    }
   ],
   "source": [
    "df = data.loc[:,[\"shipping_date\", \"date_placed\"]]\n",
    "tp_ship = []\n",
    "tp_place = []\n",
    "f = data[\"shipping_date\"].isna().values\n",
    "for i in tqdm(range(264340)):\n",
    "    p1 = parse(data[\"date_placed\"][i]).replace(tzinfo=None)\n",
    "    tp_place.append(p1)\n",
    "    if f[i]:\n",
    "        tp_ship.append(p1)\n",
    "    else:\n",
    "        p2 = parse(data[\"shipping_date\"][i], dayfirst =True)\n",
    "        tp_ship.append(p2)"
   ]
  },
  {
   "cell_type": "code",
   "execution_count": 25,
   "id": "0ebcaf6e",
   "metadata": {},
   "outputs": [],
   "source": [
    "tp = []\n",
    "for d1, d2 in zip(tp_ship, tp_place):\n",
    "    tp.append((d1-d2).days)"
   ]
  },
  {
   "cell_type": "code",
   "execution_count": 33,
   "id": "85440ced",
   "metadata": {},
   "outputs": [
    {
     "name": "stdout",
     "output_type": "stream",
     "text": [
      "17212\n",
      "20719\n",
      "31504\n",
      "37994\n",
      "48666\n",
      "48803\n",
      "51893\n",
      "52509\n",
      "52588\n",
      "56452\n",
      "65515\n",
      "85194\n",
      "88007\n",
      "91449\n",
      "98634\n"
     ]
    }
   ],
   "source": [
    "for i in range(len(tp)):\n",
    "    if tp[i]>  5000:\n",
    "        print(i)\n",
    "        "
   ]
  },
  {
   "cell_type": "code",
   "execution_count": 35,
   "id": "d96c17ad",
   "metadata": {},
   "outputs": [
    {
     "name": "stdout",
     "output_type": "stream",
     "text": [
      "29-12-2102\n",
      "2016-08-28 09:31:20.368283\n"
     ]
    }
   ],
   "source": [
    "print(data.loc[17212,\"shipping_date\"])\n",
    "print(tp_place[17212])"
   ]
  },
  {
   "cell_type": "code",
   "execution_count": 41,
   "id": "dcaaf1c3",
   "metadata": {},
   "outputs": [
    {
     "data": {
      "image/png": "[encoded data removed]",
      "text/plain": [
       "<Figure size 432x288 with 1 Axes>"
      ]
     },
     "metadata": {
      "needs_background": "light"
     },
     "output_type": "display_data"
    },
    {
     "data": {
      "text/plain": [
       "(array([ 7.,  2.,  0., 13.,  0.,  0.,  0.,  0.,  1.,  3.]),\n",
       " array([ 1. ,  5.1,  9.2, 13.3, 17.4, 21.5, 25.6, 29.7, 33.8, 37.9, 42. ]),\n",
       " <BarContainer object of 10 artists>)"
      ]
     },
     "execution_count": 41,
     "metadata": {},
     "output_type": "execute_result"
    },
    {
     "data": {
      "image/png": "[encoded data removed]",
      "text/plain": [
       "<Figure size 432x288 with 1 Axes>"
      ]
     },
     "metadata": {
      "needs_background": "light"
     },
     "output_type": "display_data"
    }
   ],
   "source": [
    "d_gap = [t for t in tp if t >= 0 and t < 100]\n",
    "plt.hist(d_gap)\n",
    "plt.show()\n",
    "plt.hist([t for t in d_gap if t > 0])"
   ]
  },
  {
   "cell_type": "code",
   "execution_count": 131,
   "id": "88cc3b13",
   "metadata": {},
   "outputs": [
    {
     "name": "stdout",
     "output_type": "stream",
     "text": [
      "<class 'pandas.core.frame.DataFrame'>\n",
      "RangeIndex: 264341 entries, 0 to 264340\n",
      "Data columns (total 7 columns):\n",
      " #   Column           Non-Null Count   Dtype  \n",
      "---  ------           --------------   -----  \n",
      " 0   user_id          264328 non-null  float64\n",
      " 1   discounts        264341 non-null  object \n",
      " 2   subscription_id  121404 non-null  float64\n",
      " 3   currency         264341 non-null  object \n",
      " 4   total_excl_tax   264341 non-null  float64\n",
      " 5   status           264341 non-null  object \n",
      " 6   date_placed      264341 non-null  object \n",
      "dtypes: float64(3), object(4)\n",
      "memory usage: 14.1+ MB\n"
     ]
    }
   ],
   "source": [
    "lst = [\"user_id\",\"discounts\",\"subscription_id\",\"currency\", \"total_excl_tax\", \"status\",\"date_placed\"]\n",
    "df = data.loc[:,lst]\n",
    "df.info()"
   ]
  },
  {
   "cell_type": "code",
   "execution_count": 132,
   "id": "e9acc065",
   "metadata": {},
   "outputs": [
    {
     "name": "stdout",
     "output_type": "stream",
     "text": [
      "0.12141732998395932\n"
     ]
    }
   ],
   "source": [
    "df = df.dropna(axis=0, how='any',subset=\"user_id\", inplace=False)\n",
    "print(df[\"user_id\"].nunique()/len(df))"
   ]
  },
  {
   "cell_type": "code",
   "execution_count": 133,
   "id": "a4e7550a",
   "metadata": {},
   "outputs": [],
   "source": [
    "lst = df[\"user_id\"].unique()\n",
    "cnt = dict(zip(lst, [0]*len(lst)))\n",
    "for i in df[\"user_id\"]:\n",
    "    cnt[int(i)] += 1"
   ]
  },
  {
   "cell_type": "code",
   "execution_count": 134,
   "id": "aff97d30",
   "metadata": {},
   "outputs": [
    {
     "data": {
      "text/html": [
       "<div>\n",
       "<style scoped>\n",
       "    .dataframe tbody tr th:only-of-type {\n",
       "        vertical-align: middle;\n",
       "    }\n",
       "\n",
       "    .dataframe tbody tr th {\n",
       "        vertical-align: top;\n",
       "    }\n",
       "\n",
       "    .dataframe thead th {\n",
       "        text-align: right;\n",
       "    }\n",
       "</style>\n",
       "<table border=\"1\" class=\"dataframe\">\n",
       "  <thead>\n",
       "    <tr style=\"text-align: right;\">\n",
       "      <th></th>\n",
       "      <th>pruchase times</th>\n",
       "    </tr>\n",
       "  </thead>\n",
       "  <tbody>\n",
       "    <tr>\n",
       "      <th>count</th>\n",
       "      <td>32094.000000</td>\n",
       "    </tr>\n",
       "    <tr>\n",
       "      <th>mean</th>\n",
       "      <td>8.236057</td>\n",
       "    </tr>\n",
       "    <tr>\n",
       "      <th>std</th>\n",
       "      <td>19.238991</td>\n",
       "    </tr>\n",
       "    <tr>\n",
       "      <th>min</th>\n",
       "      <td>1.000000</td>\n",
       "    </tr>\n",
       "    <tr>\n",
       "      <th>25%</th>\n",
       "      <td>2.000000</td>\n",
       "    </tr>\n",
       "    <tr>\n",
       "      <th>50%</th>\n",
       "      <td>3.000000</td>\n",
       "    </tr>\n",
       "    <tr>\n",
       "      <th>75%</th>\n",
       "      <td>6.000000</td>\n",
       "    </tr>\n",
       "    <tr>\n",
       "      <th>max</th>\n",
       "      <td>610.000000</td>\n",
       "    </tr>\n",
       "  </tbody>\n",
       "</table>\n",
       "</div>"
      ],
      "text/plain": [
       "       pruchase times\n",
       "count    32094.000000\n",
       "mean         8.236057\n",
       "std         19.238991\n",
       "min          1.000000\n",
       "25%          2.000000\n",
       "50%          3.000000\n",
       "75%          6.000000\n",
       "max        610.000000"
      ]
     },
     "execution_count": 134,
     "metadata": {},
     "output_type": "execute_result"
    },
    {
     "data": {
      "image/png": "[encoded data removed]",
      "text/plain": [
       "<Figure size 432x288 with 1 Axes>"
      ]
     },
     "metadata": {
      "needs_background": "light"
     },
     "output_type": "display_data"
    }
   ],
   "source": [
    "plt.hist(cnt.values())\n",
    "tpd_cnt = pd.DataFrame(cnt.values(),columns = [\"pruchase times\"])\n",
    "tpd_cnt.describe()"
   ]
  },
  {
   "cell_type": "code",
   "execution_count": 135,
   "id": "db4b4a39",
   "metadata": {},
   "outputs": [
    {
     "data": {
      "text/plain": [
       "264328"
      ]
     },
     "execution_count": 135,
     "metadata": {},
     "output_type": "execute_result"
    }
   ],
   "source": [
    "len(df)"
   ]
  },
  {
   "cell_type": "code",
   "execution_count": 136,
   "id": "ab41598b",
   "metadata": {},
   "outputs": [],
   "source": [
    "spent = dict(zip(lst, [0]*len(lst)))\n",
    "for i in df.index:\n",
    "    spent[int(df.loc[i,\"user_id\"])] += df.loc[i,\"total_excl_tax\"]"
   ]
  },
  {
   "cell_type": "code",
   "execution_count": 137,
   "id": "14be272a",
   "metadata": {},
   "outputs": [
    {
     "data": {
      "text/html": [
       "<div>\n",
       "<style scoped>\n",
       "    .dataframe tbody tr th:only-of-type {\n",
       "        vertical-align: middle;\n",
       "    }\n",
       "\n",
       "    .dataframe tbody tr th {\n",
       "        vertical-align: top;\n",
       "    }\n",
       "\n",
       "    .dataframe thead th {\n",
       "        text-align: right;\n",
       "    }\n",
       "</style>\n",
       "<table border=\"1\" class=\"dataframe\">\n",
       "  <thead>\n",
       "    <tr style=\"text-align: right;\">\n",
       "      <th></th>\n",
       "      <th>total spent</th>\n",
       "    </tr>\n",
       "  </thead>\n",
       "  <tbody>\n",
       "    <tr>\n",
       "      <th>count</th>\n",
       "      <td>32094.000000</td>\n",
       "    </tr>\n",
       "    <tr>\n",
       "      <th>mean</th>\n",
       "      <td>146.751246</td>\n",
       "    </tr>\n",
       "    <tr>\n",
       "      <th>std</th>\n",
       "      <td>322.584612</td>\n",
       "    </tr>\n",
       "    <tr>\n",
       "      <th>min</th>\n",
       "      <td>-2.000000</td>\n",
       "    </tr>\n",
       "    <tr>\n",
       "      <th>25%</th>\n",
       "      <td>28.000000</td>\n",
       "    </tr>\n",
       "    <tr>\n",
       "      <th>50%</th>\n",
       "      <td>53.280000</td>\n",
       "    </tr>\n",
       "    <tr>\n",
       "      <th>75%</th>\n",
       "      <td>126.000000</td>\n",
       "    </tr>\n",
       "    <tr>\n",
       "      <th>max</th>\n",
       "      <td>9794.000000</td>\n",
       "    </tr>\n",
       "  </tbody>\n",
       "</table>\n",
       "</div>"
      ],
      "text/plain": [
       "        total spent\n",
       "count  32094.000000\n",
       "mean     146.751246\n",
       "std      322.584612\n",
       "min       -2.000000\n",
       "25%       28.000000\n",
       "50%       53.280000\n",
       "75%      126.000000\n",
       "max     9794.000000"
      ]
     },
     "execution_count": 137,
     "metadata": {},
     "output_type": "execute_result"
    },
    {
     "data": {
      "image/png": "[encoded data removed]",
      "text/plain": [
       "<Figure size 432x288 with 1 Axes>"
      ]
     },
     "metadata": {
      "needs_background": "light"
     },
     "output_type": "display_data"
    }
   ],
   "source": [
    "plt.hist(spent.values())\n",
    "tpd_spent = pd.DataFrame(spent.values(),columns = [\"total spent\"])\n",
    "tpd_spent.describe()"
   ]
  },
  {
   "cell_type": "code",
   "execution_count": 138,
   "id": "836a4507",
   "metadata": {},
   "outputs": [
    {
     "name": "stdout",
     "output_type": "stream",
     "text": [
      "SpearmanrResult(correlation=0.6608444922093925, pvalue=0.0)\n"
     ]
    },
    {
     "data": {
      "text/plain": [
       "<matplotlib.collections.PathCollection at 0x266a64cdfd0>"
      ]
     },
     "execution_count": 138,
     "metadata": {},
     "output_type": "execute_result"
    },
    {
     "data": {
      "image/png": "[encoded data removed]",
      "text/plain": [
       "<Figure size 432x288 with 1 Axes>"
      ]
     },
     "metadata": {
      "needs_background": "light"
     },
     "output_type": "display_data"
    }
   ],
   "source": [
    "from scipy.stats import spearmanr\n",
    "ct = tpd_cnt.rank()\n",
    "sp = tpd_spent.rank()\n",
    "print(spearmanr(sp.values, ct.values))\n",
    "plt.scatter(sp.values,ct.values)"
   ]
  },
  {
   "cell_type": "code",
   "execution_count": 139,
   "id": "279f1348",
   "metadata": {},
   "outputs": [],
   "source": [
    "A = []\n",
    "B = []\n",
    "C = []\n",
    "D = []\n",
    "for i in lst:\n",
    "    if cnt[i] > 6 and spent[i] < 126:\n",
    "        A.append(i)\n",
    "    elif cnt[i] > 6 and spent[i] > 126:\n",
    "        B.append(i)\n",
    "    elif cnt[i] < 6 and spent[i] < 126:\n",
    "        C.append(i)\n",
    "    else:\n",
    "        D.append(i)        "
   ]
  },
  {
   "cell_type": "code",
   "execution_count": 140,
   "id": "4113229c",
   "metadata": {},
   "outputs": [
    {
     "name": "stdout",
     "output_type": "stream",
     "text": [
      "A: 1320\n",
      "B: 6305\n",
      "C: 21881\n",
      "D: 2588\n"
     ]
    }
   ],
   "source": [
    "print(\"A: \" + str(len(A)))\n",
    "print(\"B: \" + str(len(B)))\n",
    "print(\"C: \" + str(len(C)))\n",
    "print(\"D: \" + str(len(D)))"
   ]
  },
  {
   "cell_type": "code",
   "execution_count": 180,
   "id": "a252da24",
   "metadata": {},
   "outputs": [
    {
     "data": {
      "text/plain": [
       "(32094, 2)"
      ]
     },
     "execution_count": 180,
     "metadata": {},
     "output_type": "execute_result"
    }
   ],
   "source": [
    "from sklearn.cluster import KMeans\n",
    "from sklearn.preprocessing import StandardScaler\n",
    "X = np.array([list(cnt.values()), list(spent.values())]).T\n",
    "scaler = StandardScaler()\n",
    "X = scaler.fit_transform(X)\n",
    "X.shape"
   ]
  },
  {
   "cell_type": "code",
   "execution_count": 188,
   "id": "dc00c146",
   "metadata": {},
   "outputs": [],
   "source": [
    "kmeans = KMeans(n_clusters=4).fit(X)\n",
    "result = kmeans.labels_\n",
    "M =[]\n",
    "N =[]\n",
    "P = []\n",
    "Q = []\n",
    "for i in range(len(result)):\n",
    "    if result[i] == 0:\n",
    "        M.append(i)\n",
    "    elif result[i] == 1:\n",
    "        N.append(i)\n",
    "    elif result[i] == 2:\n",
    "        P.append(i)\n",
    "    else :\n",
    "        Q.append(i)"
   ]
  },
  {
   "cell_type": "code",
   "execution_count": 190,
   "id": "766cf5cb",
   "metadata": {},
   "outputs": [
    {
     "name": "stdout",
     "output_type": "stream",
     "text": [
      "2901\n",
      "129\n",
      "697\n",
      "28367\n"
     ]
    },
    {
     "data": {
      "text/plain": [
       "array([[ 1.03883674,  1.06965249],\n",
       "       [ 9.76010755,  9.08087805],\n",
       "       [ 3.7138055 ,  3.84676377],\n",
       "       [-0.24205868, -0.24539418]])"
      ]
     },
     "execution_count": 190,
     "metadata": {},
     "output_type": "execute_result"
    }
   ],
   "source": [
    "print(len(M))\n",
    "print(len(N))\n",
    "print(len(P))\n",
    "print(len(Q))\n",
    "kmeans.cluster_centers_"
   ]
  },
  {
   "cell_type": "code",
   "execution_count": null,
   "id": "6ccb1da6",
   "metadata": {},
   "outputs": [],
   "source": []
  },
  {
   "cell_type": "code",
   "execution_count": 141,
   "id": "1a7be671",
   "metadata": {},
   "outputs": [
    {
     "data": {
      "text/plain": [
       "0         0\n",
       "1         0\n",
       "2         0\n",
       "3         0\n",
       "4         0\n",
       "         ..\n",
       "264336    0\n",
       "264337    1\n",
       "264338    1\n",
       "264339    0\n",
       "264340    1\n",
       "Name: discounts, Length: 264328, dtype: int32"
      ]
     },
     "execution_count": 141,
     "metadata": {},
     "output_type": "execute_result"
    }
   ],
   "source": [
    "tpd = df[\"discounts\"]\n",
    "for i in df.index: \n",
    "    if df[\"discounts\"][i] == \"[]\":\n",
    "        df.loc[i,\"discounts\"] = 0\n",
    "    else:\n",
    "        df.loc[i,\"discounts\"] = 1   "
   ]
  },
  {
   "cell_type": "code",
   "execution_count": 143,
   "id": "9f6509c1",
   "metadata": {},
   "outputs": [],
   "source": [
    "df[\"discounts\"] = df[\"discounts\"].astype(int)"
   ]
  },
  {
   "cell_type": "code",
   "execution_count": 145,
   "id": "c7af03c2",
   "metadata": {},
   "outputs": [],
   "source": [
    "disc = dict(zip(lst, [0]*len(lst)))\n",
    "for i in df.index:\n",
    "    disc[int(df.loc[i,\"user_id\"])] += df.loc[i,\"discounts\"]"
   ]
  },
  {
   "cell_type": "code",
   "execution_count": 146,
   "id": "98eb1a36",
   "metadata": {},
   "outputs": [],
   "source": [
    "a_disc = b_disc = c_disc = d_disc = 0\n",
    "for i in A:\n",
    "    a_disc += disc[i]\n",
    "for i in B:\n",
    "    b_disc += disc[i]\n",
    "for i in C:\n",
    "    c_disc += disc[i]\n",
    "for i in D:\n",
    "    d_disc += disc[i]"
   ]
  },
  {
   "cell_type": "code",
   "execution_count": 147,
   "id": "2af1089b",
   "metadata": {},
   "outputs": [
    {
     "name": "stdout",
     "output_type": "stream",
     "text": [
      "discount times per person A:  0.47878787878787876\n",
      "discount times per person B:  1.8986518636003171\n",
      "discount times per person C:  0.39056715872217906\n",
      "discount times per person D:  1.0112055641421946\n"
     ]
    }
   ],
   "source": [
    "print(\"discount times per person A:  \"+ str(a_disc/len(A)))\n",
    "print(\"discount times per person B:  \"+ str(b_disc/len(B)))\n",
    "print(\"discount times per person C:  \"+ str(c_disc/len(C)))\n",
    "print(\"discount times per person D:  \"+ str(d_disc/len(D)))"
   ]
  },
  {
   "cell_type": "code",
   "execution_count": 149,
   "id": "82c64a2a",
   "metadata": {},
   "outputs": [],
   "source": [
    "f = df[\"subscription_id\"].isnull()\n",
    "for i in df.index: \n",
    "    if f[i]:\n",
    "        df.loc[i,\"subscription_id\"] = 0\n",
    "    else:\n",
    "        df.loc[i,\"subscription_id\"] = 1   "
   ]
  },
  {
   "cell_type": "code",
   "execution_count": 153,
   "id": "d8f9765f",
   "metadata": {},
   "outputs": [],
   "source": [
    "subs = dict(zip(lst, [0]*len(lst)))\n",
    "for i in df.index:\n",
    "    if df.loc[i,\"subscription_id\"] > 0:\n",
    "         subs[int(df.loc[i,\"user_id\"])] = 1"
   ]
  },
  {
   "cell_type": "code",
   "execution_count": 155,
   "id": "af6783d1",
   "metadata": {},
   "outputs": [],
   "source": [
    "a_subs = b_subs = c_subs = d_subs = 0\n",
    "for i in A:\n",
    "    a_subs += subs[i]\n",
    "for i in B:\n",
    "    b_subs += subs[i]\n",
    "for i in C:\n",
    "    c_subs += subs[i]\n",
    "for i in D:\n",
    "    d_subs += subs[i]"
   ]
  },
  {
   "cell_type": "code",
   "execution_count": 156,
   "id": "e2ae25f6",
   "metadata": {},
   "outputs": [
    {
     "name": "stdout",
     "output_type": "stream",
     "text": [
      "Subscription percentage A:  0.5431818181818182\n",
      "Subscription percentage B:  0.7609833465503568\n",
      "Subscription percentage C:  0.22055664731959235\n",
      "Subscription percentage D:  0.31414219474497684\n"
     ]
    }
   ],
   "source": [
    "print(\"Subscription percentage A:  \"+ str(a_subs/len(A)))\n",
    "print(\"Subscription percentage B:  \"+ str(b_subs/len(B)))\n",
    "print(\"Subscription percentage C:  \"+ str(c_subs/len(C)))\n",
    "print(\"Subscription percentage D:  \"+ str(d_subs/len(D)))"
   ]
  },
  {
   "cell_type": "code",
   "execution_count": 157,
   "id": "5bbd4c39",
   "metadata": {},
   "outputs": [],
   "source": [
    "for i in df.index: \n",
    "    if df.loc[i,\"currency\"] == \"SGD\":\n",
    "        df.loc[i,\"currency\"] = 0\n",
    "    else:\n",
    "        df.loc[i,\"currency\"] = 1   "
   ]
  },
  {
   "cell_type": "code",
   "execution_count": 160,
   "id": "ac94b61c",
   "metadata": {},
   "outputs": [],
   "source": [
    "fore = dict(zip(lst, [0]*len(lst)))\n",
    "for i in df.index:\n",
    "    if df.loc[i,\"currency\"] > 0:\n",
    "         fore[int(df.loc[i,\"user_id\"])] = 1"
   ]
  },
  {
   "cell_type": "code",
   "execution_count": 161,
   "id": "b5327767",
   "metadata": {},
   "outputs": [],
   "source": [
    "a_for = b_for = c_for = d_for = 0\n",
    "for i in A:\n",
    "    a_for += fore[i]\n",
    "for i in B:\n",
    "    b_for += fore[i]\n",
    "for i in C:\n",
    "    c_for += fore[i]\n",
    "for i in D:\n",
    "    d_for += fore[i]"
   ]
  },
  {
   "cell_type": "code",
   "execution_count": 162,
   "id": "8c279c0d",
   "metadata": {},
   "outputs": [
    {
     "name": "stdout",
     "output_type": "stream",
     "text": [
      "foreigner percentage A:  0.0\n",
      "foreigner percentage B:  0.012371134020618556\n",
      "foreigner percentage C:  0.01302499885745624\n",
      "foreigner percentage D:  0.10239567233384853\n"
     ]
    }
   ],
   "source": [
    "print(\"foreigner percentage A:  \"+ str(a_for/len(A)))\n",
    "print(\"foreigner percentage B:  \"+ str(b_for/len(B)))\n",
    "print(\"foreigner percentage C:  \"+ str(c_for/len(C)))\n",
    "print(\"foreigner percentage D:  \"+ str(d_for/len(D)))"
   ]
  },
  {
   "cell_type": "code",
   "execution_count": 163,
   "id": "4b2ec97d",
   "metadata": {},
   "outputs": [],
   "source": [
    "for i in df.index: \n",
    "    if df.loc[i,\"status\"] == \"Shipped\":\n",
    "        df.loc[i,\"status\"] = 0\n",
    "    else:\n",
    "        df.loc[i,\"status\"] = 1   "
   ]
  },
  {
   "cell_type": "code",
   "execution_count": 164,
   "id": "6c9a6b44",
   "metadata": {},
   "outputs": [],
   "source": [
    "stat = dict(zip(lst, [0]*len(lst)))\n",
    "for i in df.index:\n",
    "    stat[int(df.loc[i,\"user_id\"])] += df.loc[i,\"status\"]"
   ]
  },
  {
   "cell_type": "code",
   "execution_count": 166,
   "id": "6832b244",
   "metadata": {},
   "outputs": [],
   "source": [
    "a_stat = b_stat = c_stat = d_stat = 0\n",
    "for i in A:\n",
    "    a_stat += stat[i]\n",
    "for i in B:\n",
    "    b_stat += stat[i]\n",
    "for i in C:\n",
    "    c_stat += stat[i]\n",
    "for i in D:\n",
    "    d_stat += stat[i]"
   ]
  },
  {
   "cell_type": "code",
   "execution_count": 167,
   "id": "2b938f5a",
   "metadata": {},
   "outputs": [
    {
     "name": "stdout",
     "output_type": "stream",
     "text": [
      "cancel percentage A:  1.837878787878788\n",
      "cancel percentage B:  3.9232355273592385\n",
      "cancel percentage C:  0.7765641424066542\n",
      "cancel percentage D:  1.0795981452859351\n"
     ]
    }
   ],
   "source": [
    "print(\"cancel percentage A:  \"+ str(a_stat/len(A)))\n",
    "print(\"cancel percentage B:  \"+ str(b_stat/len(B)))\n",
    "print(\"cancel percentage C:  \"+ str(c_stat/len(C)))\n",
    "print(\"cancel percentage D:  \"+ str(d_stat/len(D)))"
   ]
  },
  {
   "cell_type": "code",
   "execution_count": null,
   "id": "9bd1beda",
   "metadata": {},
   "outputs": [],
   "source": []
  }
 ],
 "metadata": {
  "kernelspec": {
   "display_name": "Python 3 (ipykernel)",
   "language": "python",
   "name": "python3"
  },
  "language_info": {
   "codemirror_mode": {
    "name": "ipython",
    "version": 3
   },
   "file_extension": ".py",
   "mimetype": "text/x-python",
   "name": "python",
   "nbconvert_exporter": "python",
   "pygments_lexer": "ipython3",
   "version": "3.9.12"
  }
 },
 "nbformat": 4,
 "nbformat_minor": 5
}
