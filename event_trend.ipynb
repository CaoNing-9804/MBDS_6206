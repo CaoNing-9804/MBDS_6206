{
 "cells": [
  {
   "cell_type": "code",
   "execution_count": 1,
   "id": "90a6b5f9",
   "metadata": {},
   "outputs": [],
   "source": [
    "import pandas as pd\n",
    "import numpy as np"
   ]
  },
  {
   "cell_type": "code",
   "execution_count": 2,
   "id": "35a52001",
   "metadata": {},
   "outputs": [],
   "source": [
    "event = pd.read_csv('D:/6206/Hook Coffee data Sep 2022/Event-2022-09-16.csv')"
   ]
  },
  {
   "cell_type": "code",
   "execution_count": 3,
   "id": "5f13821a",
   "metadata": {},
   "outputs": [
    {
     "data": {
      "text/html": [
       "<div>\n",
       "<style scoped>\n",
       "    .dataframe tbody tr th:only-of-type {\n",
       "        vertical-align: middle;\n",
       "    }\n",
       "\n",
       "    .dataframe tbody tr th {\n",
       "        vertical-align: top;\n",
       "    }\n",
       "\n",
       "    .dataframe thead th {\n",
       "        text-align: right;\n",
       "    }\n",
       "</style>\n",
       "<table border=\"1\" class=\"dataframe\">\n",
       "  <thead>\n",
       "    <tr style=\"text-align: right;\">\n",
       "      <th></th>\n",
       "      <th>event</th>\n",
       "      <th>user_id</th>\n",
       "      <th>data</th>\n",
       "      <th>timestamp</th>\n",
       "    </tr>\n",
       "  </thead>\n",
       "  <tbody>\n",
       "    <tr>\n",
       "      <th>0</th>\n",
       "      <td>ACTION_VIEW_PRODUCT</td>\n",
       "      <td>133774</td>\n",
       "      <td>{'product': 4948}</td>\n",
       "      <td>2022-09-16 01:07:48.082270+00:00</td>\n",
       "    </tr>\n",
       "    <tr>\n",
       "      <th>1</th>\n",
       "      <td>ACTION_ADD_ITEM_TO_CART</td>\n",
       "      <td>133774</td>\n",
       "      <td>{'product': 4463}</td>\n",
       "      <td>2022-09-16 01:04:45.772563+00:00</td>\n",
       "    </tr>\n",
       "    <tr>\n",
       "      <th>2</th>\n",
       "      <td>ACTION_ADD_ITEM_TO_CART</td>\n",
       "      <td>133774</td>\n",
       "      <td>{'product': 4053}</td>\n",
       "      <td>2022-09-16 01:04:38.778368+00:00</td>\n",
       "    </tr>\n",
       "    <tr>\n",
       "      <th>3</th>\n",
       "      <td>ACTION_REGISTER</td>\n",
       "      <td>133774</td>\n",
       "      <td>{'ip_address': '113.211.210.84'}</td>\n",
       "      <td>2022-09-16 01:04:13.643705+00:00</td>\n",
       "    </tr>\n",
       "    <tr>\n",
       "      <th>4</th>\n",
       "      <td>ACTION_LOGIN</td>\n",
       "      <td>93406</td>\n",
       "      <td>{'ip_address': '218.212.203.186'}</td>\n",
       "      <td>2022-09-15 23:53:29.392495+00:00</td>\n",
       "    </tr>\n",
       "    <tr>\n",
       "      <th>...</th>\n",
       "      <td>...</td>\n",
       "      <td>...</td>\n",
       "      <td>...</td>\n",
       "      <td>...</td>\n",
       "    </tr>\n",
       "    <tr>\n",
       "      <th>922570</th>\n",
       "      <td>ACTION_LOGIN</td>\n",
       "      <td>1</td>\n",
       "      <td>{'ip_address': '127.0.0.1'}</td>\n",
       "      <td>2019-03-20 21:32:06.847168+00:00</td>\n",
       "    </tr>\n",
       "    <tr>\n",
       "      <th>922571</th>\n",
       "      <td>POINTS_ADDED</td>\n",
       "      <td>1</td>\n",
       "      <td>{'order': 118626, 'point': 40}</td>\n",
       "      <td>2019-03-19 23:51:02.580470+00:00</td>\n",
       "    </tr>\n",
       "    <tr>\n",
       "      <th>922572</th>\n",
       "      <td>ACTION_VIEW_PRODUCT</td>\n",
       "      <td>1</td>\n",
       "      <td>{'product': 131}</td>\n",
       "      <td>2019-03-19 23:50:18.141264+00:00</td>\n",
       "    </tr>\n",
       "    <tr>\n",
       "      <th>922573</th>\n",
       "      <td>ACTION_ADD_ITEM_TO_CART</td>\n",
       "      <td>1</td>\n",
       "      <td>{'product': 131}</td>\n",
       "      <td>2019-03-19 23:50:17.974452+00:00</td>\n",
       "    </tr>\n",
       "    <tr>\n",
       "      <th>922574</th>\n",
       "      <td>ACTION_VIEW_PRODUCT</td>\n",
       "      <td>1</td>\n",
       "      <td>{'product': 131}</td>\n",
       "      <td>2019-03-19 23:50:16.146380+00:00</td>\n",
       "    </tr>\n",
       "  </tbody>\n",
       "</table>\n",
       "<p>922575 rows × 4 columns</p>\n",
       "</div>"
      ],
      "text/plain": [
       "                          event  user_id                               data  \\\n",
       "0           ACTION_VIEW_PRODUCT   133774                  {'product': 4948}   \n",
       "1       ACTION_ADD_ITEM_TO_CART   133774                  {'product': 4463}   \n",
       "2       ACTION_ADD_ITEM_TO_CART   133774                  {'product': 4053}   \n",
       "3               ACTION_REGISTER   133774   {'ip_address': '113.211.210.84'}   \n",
       "4                  ACTION_LOGIN    93406  {'ip_address': '218.212.203.186'}   \n",
       "...                         ...      ...                                ...   \n",
       "922570             ACTION_LOGIN        1        {'ip_address': '127.0.0.1'}   \n",
       "922571             POINTS_ADDED        1     {'order': 118626, 'point': 40}   \n",
       "922572      ACTION_VIEW_PRODUCT        1                   {'product': 131}   \n",
       "922573  ACTION_ADD_ITEM_TO_CART        1                   {'product': 131}   \n",
       "922574      ACTION_VIEW_PRODUCT        1                   {'product': 131}   \n",
       "\n",
       "                               timestamp  \n",
       "0       2022-09-16 01:07:48.082270+00:00  \n",
       "1       2022-09-16 01:04:45.772563+00:00  \n",
       "2       2022-09-16 01:04:38.778368+00:00  \n",
       "3       2022-09-16 01:04:13.643705+00:00  \n",
       "4       2022-09-15 23:53:29.392495+00:00  \n",
       "...                                  ...  \n",
       "922570  2019-03-20 21:32:06.847168+00:00  \n",
       "922571  2019-03-19 23:51:02.580470+00:00  \n",
       "922572  2019-03-19 23:50:18.141264+00:00  \n",
       "922573  2019-03-19 23:50:17.974452+00:00  \n",
       "922574  2019-03-19 23:50:16.146380+00:00  \n",
       "\n",
       "[922575 rows x 4 columns]"
      ]
     },
     "execution_count": 3,
     "metadata": {},
     "output_type": "execute_result"
    }
   ],
   "source": [
    "event"
   ]
  },
  {
   "cell_type": "code",
   "execution_count": 13,
   "id": "dd5130df",
   "metadata": {},
   "outputs": [],
   "source": [
    "event =  event.drop(index = event[(event['user_id']==1)].index.tolist())"
   ]
  },
  {
   "cell_type": "code",
   "execution_count": 15,
   "id": "d850c577",
   "metadata": {},
   "outputs": [
    {
     "data": {
      "text/plain": [
       "164941"
      ]
     },
     "execution_count": 15,
     "metadata": {},
     "output_type": "execute_result"
    }
   ],
   "source": [
    "len(event[event['timestamp'].str.startswith('2019')])#2019活跃度"
   ]
  },
  {
   "cell_type": "code",
   "execution_count": 30,
   "id": "bb861343",
   "metadata": {},
   "outputs": [
    {
     "data": {
      "text/plain": [
       "414268"
      ]
     },
     "execution_count": 30,
     "metadata": {},
     "output_type": "execute_result"
    }
   ],
   "source": [
    "len(event[event['timestamp'].str.startswith('2020')])#2020活跃度"
   ]
  },
  {
   "cell_type": "code",
   "execution_count": 31,
   "id": "e72ad027",
   "metadata": {},
   "outputs": [
    {
     "data": {
      "text/plain": [
       "247878"
      ]
     },
     "execution_count": 31,
     "metadata": {},
     "output_type": "execute_result"
    }
   ],
   "source": [
    "len(event[event['timestamp'].str.startswith('2021')])#2021活跃度"
   ]
  },
  {
   "cell_type": "code",
   "execution_count": 32,
   "id": "e9d1e87e",
   "metadata": {},
   "outputs": [
    {
     "data": {
      "text/plain": [
       "94426"
      ]
     },
     "execution_count": 32,
     "metadata": {},
     "output_type": "execute_result"
    }
   ],
   "source": [
    "len(event[event['timestamp'].str.startswith('2022')])#2022活跃度"
   ]
  },
  {
   "cell_type": "code",
   "execution_count": 20,
   "id": "fe6950f5",
   "metadata": {},
   "outputs": [],
   "source": [
    "event_2019=event[event['timestamp'].str.startswith('2019')]"
   ]
  },
  {
   "cell_type": "code",
   "execution_count": 22,
   "id": "3af3de47",
   "metadata": {},
   "outputs": [
    {
     "data": {
      "text/plain": [
       "10592"
      ]
     },
     "execution_count": 22,
     "metadata": {},
     "output_type": "execute_result"
    }
   ],
   "source": [
    "len(event_2019['user_id'].value_counts())#2019活跃用户"
   ]
  },
  {
   "cell_type": "code",
   "execution_count": 23,
   "id": "9041b16c",
   "metadata": {},
   "outputs": [],
   "source": [
    "event_2020=event[event['timestamp'].str.startswith('2020')]"
   ]
  },
  {
   "cell_type": "code",
   "execution_count": 25,
   "id": "955133c0",
   "metadata": {},
   "outputs": [
    {
     "data": {
      "text/plain": [
       "19446"
      ]
     },
     "execution_count": 25,
     "metadata": {},
     "output_type": "execute_result"
    }
   ],
   "source": [
    "len(event_2020['user_id'].value_counts())#2020活跃用户"
   ]
  },
  {
   "cell_type": "code",
   "execution_count": 26,
   "id": "ec17867e",
   "metadata": {},
   "outputs": [],
   "source": [
    "event_2021=event[event['timestamp'].str.startswith('2021')]"
   ]
  },
  {
   "cell_type": "code",
   "execution_count": 27,
   "id": "df111814",
   "metadata": {},
   "outputs": [
    {
     "data": {
      "text/plain": [
       "11922"
      ]
     },
     "execution_count": 27,
     "metadata": {},
     "output_type": "execute_result"
    }
   ],
   "source": [
    "len(event_2021['user_id'].value_counts())#2021活跃用户"
   ]
  },
  {
   "cell_type": "code",
   "execution_count": 28,
   "id": "6b02e56f",
   "metadata": {},
   "outputs": [],
   "source": [
    "event_2022=event[event['timestamp'].str.startswith('2022')]"
   ]
  },
  {
   "cell_type": "code",
   "execution_count": 29,
   "id": "ab731dd8",
   "metadata": {},
   "outputs": [
    {
     "data": {
      "text/plain": [
       "5591"
      ]
     },
     "execution_count": 29,
     "metadata": {},
     "output_type": "execute_result"
    }
   ],
   "source": [
    "len(event_2022['user_id'].value_counts())#2022活跃用户"
   ]
  },
  {
   "cell_type": "code",
   "execution_count": 33,
   "id": "8e002bda",
   "metadata": {},
   "outputs": [
    {
     "data": {
      "text/plain": [
       "35141"
      ]
     },
     "execution_count": 33,
     "metadata": {},
     "output_type": "execute_result"
    }
   ],
   "source": [
    "len(event['user_id'].value_counts())#2022活跃用户"
   ]
  },
  {
   "cell_type": "code",
   "execution_count": null,
   "id": "da8e0523",
   "metadata": {},
   "outputs": [],
   "source": []
  }
 ],
 "metadata": {
  "kernelspec": {
   "display_name": "torch",
   "language": "python",
   "name": "torch"
  },
  "language_info": {
   "codemirror_mode": {
    "name": "ipython",
    "version": 3
   },
   "file_extension": ".py",
   "mimetype": "text/x-python",
   "name": "python",
   "nbconvert_exporter": "python",
   "pygments_lexer": "ipython3",
   "version": "3.10.6"
  }
 },
 "nbformat": 4,
 "nbformat_minor": 5
}
